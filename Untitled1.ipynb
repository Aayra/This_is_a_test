{
  "nbformat": 4,
  "nbformat_minor": 0,
  "metadata": {
    "colab": {
      "name": "Untitled1.ipynb",
      "provenance": []
    },
    "kernelspec": {
      "name": "python3",
      "display_name": "Python 3"
    },
    "language_info": {
      "name": "python"
    }
  },
  "cells": [
    {
      "cell_type": "code",
      "execution_count": null,
      "metadata": {
        "id": "ZiyCmPXcf20q"
      },
      "outputs": [],
      "source": [
        ""
      ]
    },
    {
      "cell_type": "markdown",
      "source": [
        "\n",
        "# This is a test\n",
        "*I'm checking everything* <br>\n",
        "**I'm checking everything!**\n",
        "\n",
        "I'm adding a picture now:\n",
        "![caption](https://raw.githubusercontent.com/Aayra/This_is_a_test/main/1GreenOutfit.jpg)\n",
        "\n",
        "\n",
        "\n",
        "\n"
      ],
      "metadata": {
        "id": "QgCgjSGqf4lO"
      }
    }
  ]
}